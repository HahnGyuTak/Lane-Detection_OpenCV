{
 "cells": [
  {
   "cell_type": "markdown",
   "id": "1c9de0b9",
   "metadata": {},
   "source": [
    "# 선분의 기울기를 이용하여 세부 추출\n",
    "\n",
    "* 다른 이미지에 대하여 차선이 아닌 선분이 검출 될  수 있음\n",
    "* 앞에서 추출한 선분에서 기울기 조건을 제한하여 세부 검출"
   ]
  },
  {
   "cell_type": "code",
   "execution_count": 2,
   "metadata": {},
   "outputs": [],
   "source": [
    "import cv2\n",
    "import numpy as np\n",
    "\n",
    "def grayscale(img): # 흑백이미지로 변환\n",
    "    return cv2.cvtColor(img, cv2.COLOR_RGB2GRAY)\n",
    "\n",
    "def canny(img, low_threshold, high_threshold): # Canny알고리즘\n",
    "    return cv2.Canny(img, low_threshold, high_threshold)\n",
    "\n",
    "def gaussian_blur(img, kerner_size): # 가우시안 필터\n",
    "    return cv2.GaussianBlur(img, (kerner_size, kerner_size), 0)\n",
    "\n",
    "def region_of_interest(img, vertices, color3 = (255, 255, 255), color1 = 255):\n",
    "    #ROI setting\n",
    "    mask = np.zeros_like(img) # img와 같은 크기의 빈 이미지\n",
    "\n",
    "    if len(img.shape) > 2 : #if color image (3 channels)\n",
    "        color = color3\n",
    "    else : #if black&white image ( 1 channel)\n",
    "        color = color1\n",
    "    \n",
    "    #vertices에 정한 점들로 이루어진 다각형 부분(ROI부분)을 color로 채움\n",
    "    cv2.fillPoly(mask, vertices, color)\n",
    "    \n",
    "    #이미지와 color로 체워진 ROI를 합침\n",
    "    ROI_img = cv2.bitwise_and(img, mask)\n",
    "    return ROI_img\n",
    "\n",
    "def draw_lines(img, lines, color=[0,0,255], thickness = 2): #선그리기\n",
    "    for line in lines:\n",
    "        for x1, y1, x2, y2 in line:\n",
    "            cv2.line(img, (x1, y1), (x2, y2), color, thickness)\n",
    "\n",
    "def hough_lines(img, rho, theta, threshold, min_line_len, max_line_gap): #허프 변환\n",
    "    lines = cv2.HoughLinesP(img, rho, theta, threshold, np.array([]), minLineLength=min_line_len, maxLineGap=max_line_gap)\n",
    "    line_img = np.zeros((img.shape[0], img.shape[1], 3), dtype = np.uint8)\n",
    "    #draw_lines(line_img, lines)\n",
    "    \n",
    "    return lines\n",
    "\n",
    "def weighted_img(img, initial_img, a = 1, b = 1., c = 0.): #두 이지미 합치기\n",
    "    return cv2.addWeighted(initial_img, a, img, b, c)\n",
    "   "
   ]
  },
  {
   "cell_type": "code",
   "execution_count": 3,
   "id": "7867b7f1",
   "metadata": {},
   "outputs": [],
   "source": [
    "from audioop import lin2lin\n",
    "\n",
    "\n",
    "image = cv2.imread(\"slope_test.jpg\")\n",
    "    \n",
    "height, width = image.shape[:2]\n",
    "\n",
    "gray_img = grayscale(image) # 흑백이미지로 변환\n",
    "\n",
    "blur_img = gaussian_blur(gray_img, 3) # Blur 효과\n",
    "\n",
    "canny_img = canny(blur_img, 70, 210) # Canny Edge 알고리ㅑ\n",
    "\n",
    "cv2.imshow('canny', canny_img) # Canny 이미지 출력\n",
    "\n",
    "vertices = np.array([[(50, height), (width/2 - 45, height/2 + 60), (width/2 + 45, height/2 + 60), (width-50, height)]], dtype=np.int32)\n",
    "\n",
    "roi_img = region_of_interest(canny_img, vertiwces) # vertices에 정한 점들을 기준으로 ROI이미지 생성\n",
    "cv2.imshow('roi', roi_img)\n",
    "\n",
    "line_arr = hough_lines(roi_img, 1, 1 * np.pi/180, 30, 10 ,20) #허프 변환\n",
    "line_arr = np.squeeze(line_arr)\n",
    "\n",
    "#기울기 구하기\n",
    "slope_degree = (np.arctan2(line_arr[:,1] - line_arr[:,3], line_arr[:,0] - line_arr[:, 2]) * 180) / np.pi\n",
    "\n",
    "#수평 기울기 제한\n",
    "line_arr = line_arr[np.abs(slope_degree) < 160]\n",
    "slope_degree = slope_degree[np.abs(slope_degree) < 160]\n",
    "#수직 기울기 제한\n",
    "line_arr = line_arr[np.abs(slope_degree) > 95]\n",
    "slope_degree = slope_degree[np.abs(slope_degree) > 95]\n",
    "\n",
    "#필터링 직선 버리기\n",
    "L_lines, R_lines = line_arr[(slope_degree > 0), :], line_arr[(slope_degree < 0), :]\n",
    "temp = np.zeros((image.shape[0], image.shape[1], 3), dtype=np.uint8)\n",
    "L_lines, R_lines = L_lines[:,None], R_lines[:,None]\n",
    "\n",
    "draw_lines(temp, L_lines)\n",
    "draw_lines(temp, R_lines)\n",
    "\n",
    "result = weighted_img(temp, image)\n",
    "cv2.imshow('result', result)\n",
    "cv2.waitKey(0)\n"
   ]
  },
  {
   "cell_type": "code",
   "execution_count": null,
   "id": "49486f59",
   "metadata": {},
   "outputs": [],
   "source": []
  }
 ],
 "metadata": {
  "kernelspec": {
   "display_name": "Python 3.10.6 64-bit",
   "language": "python",
   "name": "python3"
  },
  "language_info": {
   "codemirror_mode": {
    "name": "ipython",
    "version": 3
   },
   "file_extension": ".py",
   "mimetype": "text/x-python",
   "name": "python",
   "nbconvert_exporter": "python",
   "pygments_lexer": "ipython3",
   "version": "3.10.6"
  },
  "vscode": {
   "interpreter": {
    "hash": "b0fa6594d8f4cbf19f97940f81e996739fb7646882a419484c72d19e05852a7e"
   }
  }
 },
 "nbformat": 4,
 "nbformat_minor": 5
}
