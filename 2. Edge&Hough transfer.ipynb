{
 "cells": [
  {
   "cell_type": "markdown",
   "id": "ef155381",
   "metadata": {},
   "source": [
    "# Edge 검출 (밝기변화도가 큰 부분을 추출)\n",
    "\n",
    "* 흑백 처리\n",
    "  * 오히려 더 적은 edge 검출\n",
    "  * color이미지는 3채널 각각에 대한 edge를 고려함 -> 정확할 수는 있지만, 쓸데없는 연산이 많아짐\n",
    "  * 연산량을 줄이기 때문에 사용\n",
    "  * ps : 추출이 잘 안되면 color로 해보기\n",
    "\n",
    "* 블러 처리\n",
    "  * 노이즈와 불필요한 gradient 없애줌\n",
    "  * 짝수는 안됨\n",
    "\n",
    "* **Canny 알고리즘**\n",
    "  * 라인 따줌\n",
    "  * low 와 high 비율은 1:2 혹은 1:3 추천"
   ]
  },
  {
   "cell_type": "code",
   "execution_count": 2,
   "id": "fdcce51c",
   "metadata": {},
   "outputs": [],
   "source": [
    "import cv2\n",
    "import numpy as np\n",
    "\n",
    "def grayscale(img): # 흑백이미지로 변환\n",
    "    return cv2.cvtColor(img, cv2.COLOR_RGB2GRAY)\n",
    "\n",
    "def canny(img, low_threshold, high_threshold): # Canny알고리즘\n",
    "    return cv2.Canny(img, low_threshold, high_threshold)\n",
    "\n",
    "def gaussian_blur(img, kerner_size): # 가우시안 필터\n",
    "    return cv2.GaussianBlur(img, (kerner_size, kerner_size), 0)\n",
    "\n",
    "def region_of_interest(img, vertices, color3 = (255, 255, 255), color1 = 255):\n",
    "    #ROI setting\n",
    "    mask = np.zeros_like(img) # img와 같은 크기의 빈 이미지\n",
    "\n",
    "    if len(img.shape) > 2 : #if color image (3 channels)\n",
    "        color = color3\n",
    "    else : #if black&white image ( 1 channel)\n",
    "        color = color1\n",
    "    \n",
    "    #vertices에 정한 점들로 이루어진 다각형 부분(ROI부분)을 color로 채움\n",
    "    cv2.fillPoly(mask, vertices, color)\n",
    "    \n",
    "    #이미지와 color로 체워진 ROI를 합침\n",
    "    ROI_img = cv2.bitwise_and(img, mask)\n",
    "    return ROI_img\n",
    "\n",
    "def draw_lines(img, lines, color=[0,0,255], thickness = 2): #선그리기\n",
    "    for line in lines:\n",
    "        for x1, y1, x2, y2 in line:\n",
    "            cv2.line(img, (x1, y1), (x2, y2), color, thickness)\n",
    "\n",
    "def hough_lines(img, rho, theta, threshold, min_line_len, max_line_gap): #허프 변환\n",
    "    lines = cv2.HoughLinesP(img, rho, theta, threshold, np.array([]), minLineLength=min_line_len, maxLineGap=max_line_gap)\n",
    "    line_img = np.zeros((img.shape[0], img.shape[1], 3), dtype = np.uint8)\n",
    "    draw_lines(line_img, lines)\n",
    "    \n",
    "    return line_img\n",
    "\n",
    "def weighted_img(img, initial_img, a = 1, b = 1., c = 0.): #두 이지미 합치기\n",
    "    return cv2.addWeighted(initial_img, a, img, b, c)\n",
    "   "
   ]
  },
  {
   "cell_type": "code",
   "execution_count": 3,
   "id": "a182a31b",
   "metadata": {},
   "outputs": [
    {
     "data": {
      "text/plain": [
       "13"
      ]
     },
     "execution_count": 3,
     "metadata": {},
     "output_type": "execute_result"
    },
    {
     "ename": "",
     "evalue": "",
     "output_type": "error",
     "traceback": [
      "The Kernel crashed while executing code in the the current cell or a previous cell. Please review the code in the cell(s) to identify a possible cause of the failure. Click <a href='https://aka.ms/vscodeJupyterKernelCrash'>here</a> for more info. View Jupyter <a href='command:jupyter.viewOutput'>log</a> for further details."
     ]
    }
   ],
   "source": [
    "image = cv2.imread(\"slope_test.jpg\")\n",
    "    \n",
    "height, width = image.shape[:2]\n",
    "\n",
    "gray_img = grayscale(image) # 흑백이미지로 변환\n",
    "\n",
    "blur_img = gaussian_blur(gray_img, 3) # Blur 효과\n",
    "\n",
    "canny_img = canny(blur_img, 70, 210) # Canny Edge 알고리ㅑ\n",
    "\n",
    "cv2.imshow('canny', canny_img) # Canny 이미지 출력\n",
    "\n",
    "vertices = np.array([[(50, height), (width/2 - 45, height/2 + 60), (width/2 + 45, height/2 + 60), (width-50, height)]], dtype=np.int32)\n",
    "\n",
    "roi_img = region_of_interest(canny_img, vertices) # vertices에 정한 점들을 기준으로 ROI이미지 생성\n",
    "cv2.imshow('roi', roi_img)\n",
    "\n",
    "hough_img = hough_lines(roi_img, 1, 1 * np.pi/180, 30, 10 ,20) #허프 변환\n",
    "\n",
    "result = weighted_img(hough_img, image)\n",
    "cv2.imshow('result', result)\n",
    "cv2.waitKey(0)\n"
   ]
  },
  {
   "cell_type": "markdown",
   "id": "7b06afc2",
   "metadata": {},
   "source": [
    "# 동영상 적용"
   ]
  },
  {
   "cell_type": "code",
   "execution_count": 2,
   "id": "ec64e608",
   "metadata": {},
   "outputs": [
    {
     "ename": "",
     "evalue": "",
     "output_type": "error",
     "traceback": [
      "The Kernel crashed while executing code in the the current cell or a previous cell. Please review the code in the cell(s) to identify a possible cause of the failure. Click <a href='https://aka.ms/vscodeJupyterKernelCrash'>here</a> for more info. View Jupyter <a href='command:jupyter.viewOutput'>log</a> for further details."
     ]
    }
   ],
   "source": [
    "cap = cv2.VideoCapture(\"solidWhiteRight.mp4\")\n",
    "while cap.isOpened():\n",
    "    ret, image = cap.read()\n",
    "    if not ret:\n",
    "        break\n",
    "    \n",
    "    height, width = image.shape[:2]\n",
    "\n",
    "    gray_img = grayscale(image) # 흑백이미지로 변환\n",
    "\n",
    "    blur_img = gaussian_blur(gray_img, 9) # Blur 효과\n",
    "\n",
    "    canny_img = canny(blur_img, 70, 210) # Canny Edge 알고리ㅑ\n",
    "\n",
    "    cv2.imshow('canny', canny_img) # Canny 이미지 출력\n",
    "\n",
    "    vertices = np.array([[(50, height), (width/2 - 45, height/2 + 60), (width/2 + 45, height/2 + 60), (width-50, height)]], dtype=np.int32)\n",
    "\n",
    "    roi_img = region_of_interest(canny_img, vertices) # vertices에 정한 점들을 기준으로 ROI이미지 생성\n",
    "    cv2.imshow('roi', roi_img)\n",
    "\n",
    "    hough_img = hough_lines(roi_img, 1, 1 * np.pi/180, 30, 10 ,20) #허프 변환\n",
    "\n",
    "    result = weighted_img(hough_img, image)\n",
    "    cv2.imshow('result', result)\n",
    "    if cv2.waitKey(1) & 0xFF == ord('q'):\n",
    "        break\n",
    "\n",
    "# Release\n",
    "cap.release()\n",
    "cv2.destroyAllWindows()\n",
    "ㄴ"
   ]
  },
  {
   "cell_type": "code",
   "execution_count": null,
   "id": "e76424ac",
   "metadata": {},
   "outputs": [],
   "source": []
  },
  {
   "cell_type": "code",
   "execution_count": null,
   "id": "aef413a4",
   "metadata": {},
   "outputs": [],
   "source": []
  }
 ],
 "metadata": {
  "kernelspec": {
   "display_name": "Python 3.10.6 64-bit",
   "language": "python",
   "name": "python3"
  },
  "language_info": {
   "codemirror_mode": {
    "name": "ipython",
    "version": 3
   },
   "file_extension": ".py",
   "mimetype": "text/x-python",
   "name": "python",
   "nbconvert_exporter": "python",
   "pygments_lexer": "ipython3",
   "version": "3.10.6"
  },
  "vscode": {
   "interpreter": {
    "hash": "b0fa6594d8f4cbf19f97940f81e996739fb7646882a419484c72d19e05852a7e"
   }
  }
 },
 "nbformat": 4,
 "nbformat_minor": 5
}
