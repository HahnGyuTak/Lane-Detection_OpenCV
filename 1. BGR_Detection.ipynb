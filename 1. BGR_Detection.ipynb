{
 "cells": [
  {
   "cell_type": "markdown",
   "metadata": {},
   "source": [
    "# 흰색 부분만 추출"
   ]
  },
  {
   "cell_type": "code",
   "execution_count": 2,
   "metadata": {},
   "outputs": [
    {
     "data": {
      "text/plain": [
       "13"
      ]
     },
     "execution_count": 2,
     "metadata": {},
     "output_type": "execute_result"
    }
   ],
   "source": [
    "import cv2\n",
    "import numpy as np\n",
    "\n",
    "image = cv2.imread('test/solidWhiteCurve.jpg')\n",
    "mark = np.copy(image) # 복사\n",
    "\n",
    "#bgr 제한값 설정\n",
    "blue_threshold = 200\n",
    "green_threshold = 200\n",
    "red_threshold = 200\n",
    "\n",
    "bgr_threshold = [blue_threshold, green_threshold, red_threshold]\n",
    "\n",
    "#bgr 제한값보다 작으면 검은색으로\n",
    "thredsholds = (image[:, :, 0] < bgr_threshold[0]) | (image[:, :, 1] < bgr_threshold[0]) | (image[:, :, 2] < bgr_threshold[0])\n",
    "mark[thredsholds] = [0, 0, 0]\n",
    "\n",
    "cv2.imshow('white', mark)\n",
    "cv2.imshow('result', image)\n",
    "\n",
    "cv2.waitKey(0)"
   ]
  },
  {
   "cell_type": "markdown",
   "metadata": {},
   "source": [
    "# 사다리꼴에서 흰색부분 추출"
   ]
  },
  {
   "cell_type": "code",
   "execution_count": 2,
   "metadata": {},
   "outputs": [
    {
     "data": {
      "text/plain": [
       "13"
      ]
     },
     "execution_count": 2,
     "metadata": {},
     "output_type": "execute_result"
    }
   ],
   "source": [
    "import cv2\n",
    "import numpy as np\n",
    "\n",
    "\n",
    "def region_of_interest(img, vertices, color3 = (255, 255, 255), color1 = 255):\n",
    "    #ROI setting\n",
    "    mask = np.zeros_like(img) # img와 같은 크기의 빈 이미지\n",
    " \n",
    "    if len(img.shape) > 2 : #if color image (3 channels)\n",
    "        color = color3\n",
    "    else : #if black&white image ( 1 channel)\n",
    "        color = color1\n",
    "    \n",
    "    #vertices에 정한 점들로 이루어진 다각형 부분(ROI부분)을 color로 채움\n",
    "    cv2.fillPoly(mask, vertices, color)\n",
    "    \n",
    "    #이미지와 color로 체워진 ROI를 합침\n",
    "    ROI_img = cv2.bitwise_and(img, mask)\n",
    "    return ROI_img\n",
    "\n",
    "def mark_img(img, blue_threshold = 200, green_threshold = 200, red_threshold = 200 ):\n",
    "    bgr_threshold = [blue_threshold, green_threshold, red_threshold]\n",
    "    \n",
    "    #bgr 제한값보다 작으면 검은색으로\n",
    "    thredsholds = (image[:, :, 0] < bgr_threshold[0]) | (image[:, :, 1] < bgr_threshold[0]) | (image[:, :, 2] < bgr_threshold[0])\n",
    "    \n",
    "    mark[thredsholds] = [0, 0, 0]\n",
    "    return mark \n",
    "\n",
    "\n",
    "image = cv2.imread('solidWhiteCurve.jpg')\n",
    "height, width = image.shape[:2]\n",
    "\n",
    "#사다리꼴 모형의 points\n",
    "vertices = np.array([[(50, height), (width/2 - 45, height/2 + 60), (width/2 + 45, height/2 + 60), (width-50, height)]], dtype=np.int32)\n",
    "roi_img = region_of_interest(image, vertices) # vertices에 정한 점들을 기준으로 ROI이미지 생\n",
    "cv2.imshow('mid', roi_img)\n",
    "mark = np.copy(roi_img)\n",
    "mark = mark_img(roi_img)\n",
    "\n",
    "cv2.imshow('roi_while', mark)\n",
    "cv2.imshow('result', image)\n",
    "\n",
    "cv2.waitKey(0)"
   ]
  },
  {
   "cell_type": "markdown",
   "metadata": {},
   "source": [
    "# 동영상 적용"
   ]
  },
  {
   "cell_type": "code",
   "execution_count": 1,
   "metadata": {},
   "outputs": [],
   "source": [
    "import cv2\n",
    "import numpy as np\n",
    "\n",
    "\n",
    "def region_of_interest(img, vertices, color3 = (255, 255, 255), color1 = 255):\n",
    "    #ROI setting\n",
    "    mask = np.zeros_like(img) # img와 같은 크기의 빈 이미지\n",
    "\n",
    "    if len(img.shape) > 2 : #if color image (3 channels)\n",
    "        color = color3\n",
    "    else : #if black&white image ( 1 channel)\n",
    "        color = color1\n",
    "    \n",
    "    #vertices에 정한 점들로 이루어진 다각형 부분(ROI부분)을 color로 채움\n",
    "    cv2.fillPoly(mask, vertices, color)\n",
    "    \n",
    "    #이미지와 color로 체워진 ROI를 합침\n",
    "    ROI_img = cv2.bitwise_and(img, mask)\n",
    "    return ROI_img\n",
    "\n",
    "def mark_img(img, blue_threshold = 200, green_threshold = 200, red_threshold = 200 ):\n",
    "    bgr_threshold = [blue_threshold, green_threshold, red_threshold]\n",
    "    \n",
    "    #bgr 제한값보다 작으면 검은색으로\n",
    "    thredsholds = (image[:, :, 0] < bgr_threshold[0]) | (image[:, :, 1] < bgr_threshold[1]) | (image[:, :, 2] < bgr_threshold[2])\n",
    "    \n",
    "    mark[thredsholds] = [0, 0, 0]\n",
    "    return mark \n",
    "\n",
    "#----------------------------------------------------\n",
    "#--------------------Load Video----------------------\n",
    "cap = cv2.VideoCapture(\"solidWhiteRight.mp4\")\n",
    "\n",
    "while (cap.isOpened()):\n",
    "    ret, image = cap.read()\n",
    "    if not ret:\n",
    "        break\n",
    "    height, width = image.shape[:2]\n",
    "\n",
    "    #사다리꼴 모형의 points\n",
    "    vertices = np.array([[(50, height), (width/2 - 45, height/2 + 60), (width/2 + 45, height/2 + 60), (width-50, height)]], dtype=np.int32)\n",
    "    roi_img = region_of_interest(image, vertices, (0, 0, 255)) # vertices에 정한 점들을 기준으로 ROI이미지 생성( 빨간색)\n",
    "\n",
    "    mark = np.copy(roi_img)\n",
    "    mark = mark_img(roi_img)\n",
    "\n",
    "    #원본 이미지에 빨간색 인식 차선 overlap하기\n",
    "    color_threshold = (mark[:,:,0] == 0) & (mark[:,:,1] == 0) & (mark[:,:,2] > 200)\n",
    "    image[color_threshold] = [0,0,255]\n",
    "\n",
    "    cv2.imshow('result', image) # 이미지 출력\n",
    "    if cv2.waitKey(1) & 0xFF == ord('q'):\n",
    "        break\n",
    "    \n",
    "\n",
    "# Release\n",
    "cap.release()\n",
    "cv2.destroyAllWindows()\n",
    "#exit()"
   ]
  },
  {
   "cell_type": "code",
   "execution_count": null,
   "metadata": {},
   "outputs": [],
   "source": []
  }
 ],
 "metadata": {
  "kernelspec": {
   "display_name": "Python 3.10.6 64-bit",
   "language": "python",
   "name": "python3"
  },
  "language_info": {
   "codemirror_mode": {
    "name": "ipython",
    "version": 3
   },
   "file_extension": ".py",
   "mimetype": "text/x-python",
   "name": "python",
   "nbconvert_exporter": "python",
   "pygments_lexer": "ipython3",
   "version": "3.10.6"
  },
  "orig_nbformat": 4,
  "vscode": {
   "interpreter": {
    "hash": "b0fa6594d8f4cbf19f97940f81e996739fb7646882a419484c72d19e05852a7e"
   }
  }
 },
 "nbformat": 4,
 "nbformat_minor": 2
}
